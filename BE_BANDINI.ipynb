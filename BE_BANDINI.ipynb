{
  "cells": [
    {
      "cell_type": "markdown",
      "metadata": {
        "id": "view-in-github",
        "colab_type": "text"
      },
      "source": [
        "<a href=\"https://colab.research.google.com/github/BandiniThomas/be_machine_learning/blob/main/BE_BANDINI.ipynb\" target=\"_parent\"><img src=\"https://colab.research.google.com/assets/colab-badge.svg\" alt=\"Open In Colab\"/></a>"
      ]
    },
    {
      "cell_type": "code",
      "execution_count": null,
      "metadata": {
        "colab": {
          "base_uri": "https://localhost:8080/"
        },
        "id": "CgXpCV4UfPGY",
        "outputId": "be6d2c9f-e5f8-4d97-a09f-c89bcee8edec"
      },
      "outputs": [
        {
          "output_type": "stream",
          "name": "stdout",
          "text": [
            "dataset.csv  sample_data\n"
          ]
        }
      ],
      "source": [
        "!ls"
      ]
    },
    {
      "cell_type": "code",
      "execution_count": null,
      "metadata": {
        "colab": {
          "base_uri": "https://localhost:8080/",
          "height": 273
        },
        "id": "_05fajWthgOc",
        "outputId": "8bbd4379-264c-4743-f1ca-205339a21e35"
      },
      "outputs": [
        {
          "output_type": "execute_result",
          "data": {
            "text/plain": [
              "   ID gender   age  height(cm)  weight(kg)  waist(cm)  eyesight(left)  \\\n",
              "0   0      F  40.0         155        60.0       81.3             1.2   \n",
              "1   1      F  40.0         160        60.0       81.0             0.8   \n",
              "2   2      M  55.0         170        60.0       80.0             0.8   \n",
              "3   3      M  40.0         165        70.0       88.0             1.5   \n",
              "4   4      F  40.0         155        60.0       86.0             1.0   \n",
              "\n",
              "   eyesight(right)  hearing(left)  hearing(right)  ...  hemoglobin  \\\n",
              "0              1.0            1.0             1.0  ...        12.9   \n",
              "1              0.6            1.0             1.0  ...        12.7   \n",
              "2              0.8            1.0             1.0  ...        15.8   \n",
              "3              1.5            1.0             1.0  ...        14.7   \n",
              "4              1.0            1.0             1.0  ...        12.5   \n",
              "\n",
              "   Urine protein  serum creatinine   AST   ALT   Gtp  oral  dental caries  \\\n",
              "0            1.0               0.7  18.0  19.0  27.0     Y              0   \n",
              "1            1.0               0.6  22.0  19.0  18.0     Y              0   \n",
              "2            1.0               1.0  21.0  16.0  22.0     Y              0   \n",
              "3            1.0               1.0  19.0  26.0  18.0     Y              0   \n",
              "4            1.0               0.6  16.0  14.0  22.0     Y              0   \n",
              "\n",
              "   tartar  smoking  \n",
              "0       Y        0  \n",
              "1       Y        0  \n",
              "2       N        1  \n",
              "3       Y        0  \n",
              "4       N        0  \n",
              "\n",
              "[5 rows x 27 columns]"
            ],
            "text/html": [
              "\n",
              "  <div id=\"df-5d8617c9-36b3-4e8a-9d88-123670306dfe\" class=\"colab-df-container\">\n",
              "    <div>\n",
              "<style scoped>\n",
              "    .dataframe tbody tr th:only-of-type {\n",
              "        vertical-align: middle;\n",
              "    }\n",
              "\n",
              "    .dataframe tbody tr th {\n",
              "        vertical-align: top;\n",
              "    }\n",
              "\n",
              "    .dataframe thead th {\n",
              "        text-align: right;\n",
              "    }\n",
              "</style>\n",
              "<table border=\"1\" class=\"dataframe\">\n",
              "  <thead>\n",
              "    <tr style=\"text-align: right;\">\n",
              "      <th></th>\n",
              "      <th>ID</th>\n",
              "      <th>gender</th>\n",
              "      <th>age</th>\n",
              "      <th>height(cm)</th>\n",
              "      <th>weight(kg)</th>\n",
              "      <th>waist(cm)</th>\n",
              "      <th>eyesight(left)</th>\n",
              "      <th>eyesight(right)</th>\n",
              "      <th>hearing(left)</th>\n",
              "      <th>hearing(right)</th>\n",
              "      <th>...</th>\n",
              "      <th>hemoglobin</th>\n",
              "      <th>Urine protein</th>\n",
              "      <th>serum creatinine</th>\n",
              "      <th>AST</th>\n",
              "      <th>ALT</th>\n",
              "      <th>Gtp</th>\n",
              "      <th>oral</th>\n",
              "      <th>dental caries</th>\n",
              "      <th>tartar</th>\n",
              "      <th>smoking</th>\n",
              "    </tr>\n",
              "  </thead>\n",
              "  <tbody>\n",
              "    <tr>\n",
              "      <th>0</th>\n",
              "      <td>0</td>\n",
              "      <td>F</td>\n",
              "      <td>40.0</td>\n",
              "      <td>155</td>\n",
              "      <td>60.0</td>\n",
              "      <td>81.3</td>\n",
              "      <td>1.2</td>\n",
              "      <td>1.0</td>\n",
              "      <td>1.0</td>\n",
              "      <td>1.0</td>\n",
              "      <td>...</td>\n",
              "      <td>12.9</td>\n",
              "      <td>1.0</td>\n",
              "      <td>0.7</td>\n",
              "      <td>18.0</td>\n",
              "      <td>19.0</td>\n",
              "      <td>27.0</td>\n",
              "      <td>Y</td>\n",
              "      <td>0</td>\n",
              "      <td>Y</td>\n",
              "      <td>0</td>\n",
              "    </tr>\n",
              "    <tr>\n",
              "      <th>1</th>\n",
              "      <td>1</td>\n",
              "      <td>F</td>\n",
              "      <td>40.0</td>\n",
              "      <td>160</td>\n",
              "      <td>60.0</td>\n",
              "      <td>81.0</td>\n",
              "      <td>0.8</td>\n",
              "      <td>0.6</td>\n",
              "      <td>1.0</td>\n",
              "      <td>1.0</td>\n",
              "      <td>...</td>\n",
              "      <td>12.7</td>\n",
              "      <td>1.0</td>\n",
              "      <td>0.6</td>\n",
              "      <td>22.0</td>\n",
              "      <td>19.0</td>\n",
              "      <td>18.0</td>\n",
              "      <td>Y</td>\n",
              "      <td>0</td>\n",
              "      <td>Y</td>\n",
              "      <td>0</td>\n",
              "    </tr>\n",
              "    <tr>\n",
              "      <th>2</th>\n",
              "      <td>2</td>\n",
              "      <td>M</td>\n",
              "      <td>55.0</td>\n",
              "      <td>170</td>\n",
              "      <td>60.0</td>\n",
              "      <td>80.0</td>\n",
              "      <td>0.8</td>\n",
              "      <td>0.8</td>\n",
              "      <td>1.0</td>\n",
              "      <td>1.0</td>\n",
              "      <td>...</td>\n",
              "      <td>15.8</td>\n",
              "      <td>1.0</td>\n",
              "      <td>1.0</td>\n",
              "      <td>21.0</td>\n",
              "      <td>16.0</td>\n",
              "      <td>22.0</td>\n",
              "      <td>Y</td>\n",
              "      <td>0</td>\n",
              "      <td>N</td>\n",
              "      <td>1</td>\n",
              "    </tr>\n",
              "    <tr>\n",
              "      <th>3</th>\n",
              "      <td>3</td>\n",
              "      <td>M</td>\n",
              "      <td>40.0</td>\n",
              "      <td>165</td>\n",
              "      <td>70.0</td>\n",
              "      <td>88.0</td>\n",
              "      <td>1.5</td>\n",
              "      <td>1.5</td>\n",
              "      <td>1.0</td>\n",
              "      <td>1.0</td>\n",
              "      <td>...</td>\n",
              "      <td>14.7</td>\n",
              "      <td>1.0</td>\n",
              "      <td>1.0</td>\n",
              "      <td>19.0</td>\n",
              "      <td>26.0</td>\n",
              "      <td>18.0</td>\n",
              "      <td>Y</td>\n",
              "      <td>0</td>\n",
              "      <td>Y</td>\n",
              "      <td>0</td>\n",
              "    </tr>\n",
              "    <tr>\n",
              "      <th>4</th>\n",
              "      <td>4</td>\n",
              "      <td>F</td>\n",
              "      <td>40.0</td>\n",
              "      <td>155</td>\n",
              "      <td>60.0</td>\n",
              "      <td>86.0</td>\n",
              "      <td>1.0</td>\n",
              "      <td>1.0</td>\n",
              "      <td>1.0</td>\n",
              "      <td>1.0</td>\n",
              "      <td>...</td>\n",
              "      <td>12.5</td>\n",
              "      <td>1.0</td>\n",
              "      <td>0.6</td>\n",
              "      <td>16.0</td>\n",
              "      <td>14.0</td>\n",
              "      <td>22.0</td>\n",
              "      <td>Y</td>\n",
              "      <td>0</td>\n",
              "      <td>N</td>\n",
              "      <td>0</td>\n",
              "    </tr>\n",
              "  </tbody>\n",
              "</table>\n",
              "<p>5 rows × 27 columns</p>\n",
              "</div>\n",
              "    <div class=\"colab-df-buttons\">\n",
              "\n",
              "  <div class=\"colab-df-container\">\n",
              "    <button class=\"colab-df-convert\" onclick=\"convertToInteractive('df-5d8617c9-36b3-4e8a-9d88-123670306dfe')\"\n",
              "            title=\"Convert this dataframe to an interactive table.\"\n",
              "            style=\"display:none;\">\n",
              "\n",
              "  <svg xmlns=\"http://www.w3.org/2000/svg\" height=\"24px\" viewBox=\"0 -960 960 960\">\n",
              "    <path d=\"M120-120v-720h720v720H120Zm60-500h600v-160H180v160Zm220 220h160v-160H400v160Zm0 220h160v-160H400v160ZM180-400h160v-160H180v160Zm440 0h160v-160H620v160ZM180-180h160v-160H180v160Zm440 0h160v-160H620v160Z\"/>\n",
              "  </svg>\n",
              "    </button>\n",
              "\n",
              "  <style>\n",
              "    .colab-df-container {\n",
              "      display:flex;\n",
              "      gap: 12px;\n",
              "    }\n",
              "\n",
              "    .colab-df-convert {\n",
              "      background-color: #E8F0FE;\n",
              "      border: none;\n",
              "      border-radius: 50%;\n",
              "      cursor: pointer;\n",
              "      display: none;\n",
              "      fill: #1967D2;\n",
              "      height: 32px;\n",
              "      padding: 0 0 0 0;\n",
              "      width: 32px;\n",
              "    }\n",
              "\n",
              "    .colab-df-convert:hover {\n",
              "      background-color: #E2EBFA;\n",
              "      box-shadow: 0px 1px 2px rgba(60, 64, 67, 0.3), 0px 1px 3px 1px rgba(60, 64, 67, 0.15);\n",
              "      fill: #174EA6;\n",
              "    }\n",
              "\n",
              "    .colab-df-buttons div {\n",
              "      margin-bottom: 4px;\n",
              "    }\n",
              "\n",
              "    [theme=dark] .colab-df-convert {\n",
              "      background-color: #3B4455;\n",
              "      fill: #D2E3FC;\n",
              "    }\n",
              "\n",
              "    [theme=dark] .colab-df-convert:hover {\n",
              "      background-color: #434B5C;\n",
              "      box-shadow: 0px 1px 3px 1px rgba(0, 0, 0, 0.15);\n",
              "      filter: drop-shadow(0px 1px 2px rgba(0, 0, 0, 0.3));\n",
              "      fill: #FFFFFF;\n",
              "    }\n",
              "  </style>\n",
              "\n",
              "    <script>\n",
              "      const buttonEl =\n",
              "        document.querySelector('#df-5d8617c9-36b3-4e8a-9d88-123670306dfe button.colab-df-convert');\n",
              "      buttonEl.style.display =\n",
              "        google.colab.kernel.accessAllowed ? 'block' : 'none';\n",
              "\n",
              "      async function convertToInteractive(key) {\n",
              "        const element = document.querySelector('#df-5d8617c9-36b3-4e8a-9d88-123670306dfe');\n",
              "        const dataTable =\n",
              "          await google.colab.kernel.invokeFunction('convertToInteractive',\n",
              "                                                    [key], {});\n",
              "        if (!dataTable) return;\n",
              "\n",
              "        const docLinkHtml = 'Like what you see? Visit the ' +\n",
              "          '<a target=\"_blank\" href=https://colab.research.google.com/notebooks/data_table.ipynb>data table notebook</a>'\n",
              "          + ' to learn more about interactive tables.';\n",
              "        element.innerHTML = '';\n",
              "        dataTable['output_type'] = 'display_data';\n",
              "        await google.colab.output.renderOutput(dataTable, element);\n",
              "        const docLink = document.createElement('div');\n",
              "        docLink.innerHTML = docLinkHtml;\n",
              "        element.appendChild(docLink);\n",
              "      }\n",
              "    </script>\n",
              "  </div>\n",
              "\n",
              "\n",
              "<div id=\"df-61ba071e-5867-471a-8e6c-311ddb2452ea\">\n",
              "  <button class=\"colab-df-quickchart\" onclick=\"quickchart('df-61ba071e-5867-471a-8e6c-311ddb2452ea')\"\n",
              "            title=\"Suggest charts\"\n",
              "            style=\"display:none;\">\n",
              "\n",
              "<svg xmlns=\"http://www.w3.org/2000/svg\" height=\"24px\"viewBox=\"0 0 24 24\"\n",
              "     width=\"24px\">\n",
              "    <g>\n",
              "        <path d=\"M19 3H5c-1.1 0-2 .9-2 2v14c0 1.1.9 2 2 2h14c1.1 0 2-.9 2-2V5c0-1.1-.9-2-2-2zM9 17H7v-7h2v7zm4 0h-2V7h2v10zm4 0h-2v-4h2v4z\"/>\n",
              "    </g>\n",
              "</svg>\n",
              "  </button>\n",
              "\n",
              "<style>\n",
              "  .colab-df-quickchart {\n",
              "      --bg-color: #E8F0FE;\n",
              "      --fill-color: #1967D2;\n",
              "      --hover-bg-color: #E2EBFA;\n",
              "      --hover-fill-color: #174EA6;\n",
              "      --disabled-fill-color: #AAA;\n",
              "      --disabled-bg-color: #DDD;\n",
              "  }\n",
              "\n",
              "  [theme=dark] .colab-df-quickchart {\n",
              "      --bg-color: #3B4455;\n",
              "      --fill-color: #D2E3FC;\n",
              "      --hover-bg-color: #434B5C;\n",
              "      --hover-fill-color: #FFFFFF;\n",
              "      --disabled-bg-color: #3B4455;\n",
              "      --disabled-fill-color: #666;\n",
              "  }\n",
              "\n",
              "  .colab-df-quickchart {\n",
              "    background-color: var(--bg-color);\n",
              "    border: none;\n",
              "    border-radius: 50%;\n",
              "    cursor: pointer;\n",
              "    display: none;\n",
              "    fill: var(--fill-color);\n",
              "    height: 32px;\n",
              "    padding: 0;\n",
              "    width: 32px;\n",
              "  }\n",
              "\n",
              "  .colab-df-quickchart:hover {\n",
              "    background-color: var(--hover-bg-color);\n",
              "    box-shadow: 0 1px 2px rgba(60, 64, 67, 0.3), 0 1px 3px 1px rgba(60, 64, 67, 0.15);\n",
              "    fill: var(--button-hover-fill-color);\n",
              "  }\n",
              "\n",
              "  .colab-df-quickchart-complete:disabled,\n",
              "  .colab-df-quickchart-complete:disabled:hover {\n",
              "    background-color: var(--disabled-bg-color);\n",
              "    fill: var(--disabled-fill-color);\n",
              "    box-shadow: none;\n",
              "  }\n",
              "\n",
              "  .colab-df-spinner {\n",
              "    border: 2px solid var(--fill-color);\n",
              "    border-color: transparent;\n",
              "    border-bottom-color: var(--fill-color);\n",
              "    animation:\n",
              "      spin 1s steps(1) infinite;\n",
              "  }\n",
              "\n",
              "  @keyframes spin {\n",
              "    0% {\n",
              "      border-color: transparent;\n",
              "      border-bottom-color: var(--fill-color);\n",
              "      border-left-color: var(--fill-color);\n",
              "    }\n",
              "    20% {\n",
              "      border-color: transparent;\n",
              "      border-left-color: var(--fill-color);\n",
              "      border-top-color: var(--fill-color);\n",
              "    }\n",
              "    30% {\n",
              "      border-color: transparent;\n",
              "      border-left-color: var(--fill-color);\n",
              "      border-top-color: var(--fill-color);\n",
              "      border-right-color: var(--fill-color);\n",
              "    }\n",
              "    40% {\n",
              "      border-color: transparent;\n",
              "      border-right-color: var(--fill-color);\n",
              "      border-top-color: var(--fill-color);\n",
              "    }\n",
              "    60% {\n",
              "      border-color: transparent;\n",
              "      border-right-color: var(--fill-color);\n",
              "    }\n",
              "    80% {\n",
              "      border-color: transparent;\n",
              "      border-right-color: var(--fill-color);\n",
              "      border-bottom-color: var(--fill-color);\n",
              "    }\n",
              "    90% {\n",
              "      border-color: transparent;\n",
              "      border-bottom-color: var(--fill-color);\n",
              "    }\n",
              "  }\n",
              "</style>\n",
              "\n",
              "  <script>\n",
              "    async function quickchart(key) {\n",
              "      const quickchartButtonEl =\n",
              "        document.querySelector('#' + key + ' button');\n",
              "      quickchartButtonEl.disabled = true;  // To prevent multiple clicks.\n",
              "      quickchartButtonEl.classList.add('colab-df-spinner');\n",
              "      try {\n",
              "        const charts = await google.colab.kernel.invokeFunction(\n",
              "            'suggestCharts', [key], {});\n",
              "      } catch (error) {\n",
              "        console.error('Error during call to suggestCharts:', error);\n",
              "      }\n",
              "      quickchartButtonEl.classList.remove('colab-df-spinner');\n",
              "      quickchartButtonEl.classList.add('colab-df-quickchart-complete');\n",
              "    }\n",
              "    (() => {\n",
              "      let quickchartButtonEl =\n",
              "        document.querySelector('#df-61ba071e-5867-471a-8e6c-311ddb2452ea button');\n",
              "      quickchartButtonEl.style.display =\n",
              "        google.colab.kernel.accessAllowed ? 'block' : 'none';\n",
              "    })();\n",
              "  </script>\n",
              "</div>\n",
              "\n",
              "    </div>\n",
              "  </div>\n"
            ],
            "application/vnd.google.colaboratory.intrinsic+json": {
              "type": "dataframe",
              "variable_name": "df"
            }
          },
          "metadata": {},
          "execution_count": 2
        }
      ],
      "source": [
        "import pandas as pd\n",
        "df = pd.read_csv(\"dataset.csv\")\n",
        "df.head()"
      ]
    },
    {
      "cell_type": "code",
      "execution_count": null,
      "metadata": {
        "colab": {
          "base_uri": "https://localhost:8080/"
        },
        "id": "YVLyXIVGjxRG",
        "outputId": "ecf77e0d-ac1a-4a1e-b91b-b85353f25d1a"
      },
      "outputs": [
        {
          "name": "stdout",
          "output_type": "stream",
          "text": [
            "Liste des noms des colonnes :\n",
            "Index(['ID', 'gender', 'age', 'height(cm)', 'weight(kg)', 'waist(cm)',\n",
            "       'eyesight(left)', 'eyesight(right)', 'hearing(left)', 'hearing(right)',\n",
            "       'systolic', 'relaxation', 'fasting blood sugar', 'Cholesterol',\n",
            "       'triglyceride', 'HDL', 'LDL', 'hemoglobin', 'Urine protein',\n",
            "       'serum creatinine', 'AST', 'ALT', 'Gtp', 'oral', 'dental caries',\n",
            "       'tartar', 'smoking'],\n",
            "      dtype='object')\n",
            "55702\n",
            "12\n"
          ]
        }
      ],
      "source": [
        "noms_colonnes = df.columns\n",
        "\n",
        "print(\"Liste des noms des colonnes :\")\n",
        "print(noms_colonnes)\n",
        "\n",
        "\n",
        "print(len(df));\n",
        "\n",
        "total_nulls = df.isnull().sum().sum()\n",
        "\n",
        "print(total_nulls);"
      ]
    },
    {
      "cell_type": "markdown",
      "metadata": {
        "id": "C43JxOG7iYj6"
      },
      "source": [
        "**1.1**\n",
        "\n",
        "Les colonnes correspondent aux données biologique des patients:\n",
        "'ID', 'gender', 'age', 'height(cm)', 'weight(kg)', 'waist(cm)', 'eyesight(left)', 'eyesight(right)', 'hearing(left)', 'hearing(right)', 'systolic', 'relaxation', 'fasting blood sugar', 'Cholesterol', 'triglyceride', 'HDL', 'LDL', 'hemoglobin', 'Urine protein', 'serum creatinine', 'AST', 'ALT', 'Gtp', 'oral', 'dental caries', 'tartar', 'smoking'\n",
        "\n",
        "Il y a 55702 entrées dans le jeu de données.\n",
        "\n",
        "Il y a 12 entrées nulles dans le jeu de donnée."
      ]
    },
    {
      "cell_type": "code",
      "execution_count": null,
      "metadata": {
        "colab": {
          "base_uri": "https://localhost:8080/"
        },
        "id": "XDMJBv_Sh2W8",
        "outputId": "9bc89a99-b087-4e3c-e343-16e478e50a22"
      },
      "outputs": [
        {
          "name": "stdout",
          "output_type": "stream",
          "text": [
            "La moyenne d'age des patients fumeurs : 43.560813453265546\n",
            "La moyenne de taille des patients fumeurs : 169.4354010852031\n",
            "La moyenne de poids des patients fumeurs : 70.95937622213532\n",
            "Enregistrements avec des âges aberrants :\n",
            "          ID gender      age  height(cm)  weight(kg)  waist(cm)  \\\n",
            "55692  55681      F    180.0         160        50.0       70.0   \n",
            "55693  55683      F   1200.0         160        50.0       68.5   \n",
            "55694  55684      M   3000.0         165        60.0       78.0   \n",
            "55695  55691      M  40000.0         160        65.0       85.0   \n",
            "\n",
            "       eyesight(left)  eyesight(right)  hearing(left)  hearing(right)  ...  \\\n",
            "55692             1.2              1.2            1.0             1.0  ...   \n",
            "55693             1.0              1.2            1.0             1.0  ...   \n",
            "55694             0.8              1.0            1.0             1.0  ...   \n",
            "55695             0.9              0.7            1.0             1.0  ...   \n",
            "\n",
            "       hemoglobin  Urine protein  serum creatinine   AST   ALT   Gtp  oral  \\\n",
            "55692        14.0            1.0               0.9  20.0  12.0  14.0     Y   \n",
            "55693        12.4            1.0               0.5  17.0  11.0  12.0     Y   \n",
            "55694        14.4            1.0               0.7  20.0  19.0  18.0     Y   \n",
            "55695        15.0            1.0               0.8  26.0  29.0  41.0     Y   \n",
            "\n",
            "       dental caries  tartar  smoking  \n",
            "55692              0       Y        0  \n",
            "55693              0       N        0  \n",
            "55694              0       N        0  \n",
            "55695              0       Y        1  \n",
            "\n",
            "[4 rows x 27 columns]\n",
            "l'écart type de l'hemoglobine est :\n",
            "1.5644757507736968\n"
          ]
        }
      ],
      "source": [
        "fumeurs = df[df['smoking'] == 1]\n",
        "\n",
        "print(\"La moyenne d'age des patients fumeurs :\", fumeurs['age'].mean())\n",
        "print(\"La moyenne de taille des patients fumeurs :\", fumeurs['height(cm)'].mean())\n",
        "print(\"La moyenne de poids des patients fumeurs :\", fumeurs['weight(kg)'].mean())\n",
        "\n",
        "limite_age = 110\n",
        "\n",
        "ages_aberrants = df[df['age'] > limite_age]\n",
        "\n",
        "print(\"Enregistrements avec des âges aberrants :\" )\n",
        "print(ages_aberrants)\n",
        "\n",
        "print(\"l'écart type de l'hemoglobine est :\")\n",
        "print((df['hemoglobin'].std()))\n",
        "\n"
      ]
    },
    {
      "cell_type": "markdown",
      "metadata": {
        "id": "LeQUOWUxnSVF"
      },
      "source": [
        "**1.2**\n",
        "\n",
        "La moyenne d'age des patients fumeurs : 43.56 ans\n",
        "\n",
        "La moyenne de taille des patients fumeurs : 169.43 cm\n",
        "\n",
        "La moyenne de poids des patients fumeurs : 70.95 kg\n",
        "\n",
        "Les patients 55681 (180 ans), 55683 (1200 ans), 55684 (3000 ans), 55691 (40000 ans) ont des ages aberrants   \n",
        "\n",
        "l'écart type de l'hemoglobine est :\n",
        "1.564"
      ]
    },
    {
      "cell_type": "code",
      "execution_count": null,
      "metadata": {
        "colab": {
          "base_uri": "https://localhost:8080/",
          "height": 429
        },
        "id": "Xf_QpkBCwHnb",
        "outputId": "1579c323-7cb8-46a4-dc1c-5e10894dd1c2"
      },
      "outputs": [
        {
          "data": {
            "image/png": "[encoded data removed]",
            "text/plain": [
              "<Figure size 640x480 with 1 Axes>"
            ]
          },
          "metadata": {},
          "output_type": "display_data"
        }
      ],
      "source": [
        "import matplotlib.pyplot as plt\n",
        "\n",
        "counts = df['smoking'].value_counts()\n",
        "\n",
        "labels = ['Non-fumeurs', 'Fumeurs']\n",
        "sizes = [counts[0], counts[1]]\n",
        "\n",
        "\n",
        "plt.pie(sizes, labels=labels, autopct='%1.1f%%')\n",
        "plt.title('Répartition des fumeurs et des non-fumeurs')\n",
        "\n",
        "\n",
        "plt.show()"
      ]
    },
    {
      "cell_type": "code",
      "execution_count": null,
      "metadata": {
        "colab": {
          "base_uri": "https://localhost:8080/",
          "height": 472
        },
        "id": "Mjmj8VrRxjc5",
        "outputId": "585c1563-6625-43f1-fe7a-2ccf7ca5bc44"
      },
      "outputs": [
        {
          "data": {
            "image/png": "[encoded data removed]",
            "text/plain": [
              "<Figure size 640x480 with 1 Axes>"
            ]
          },
          "metadata": {},
          "output_type": "display_data"
        }
      ],
      "source": [
        "hommes_fumeurs = df[(df['gender'] == 'M') & (df['smoking'] == 1)].shape[0]\n",
        "femmes_fumeuses = df[(df['gender'] == 'F') & (df['smoking'] == 1)].shape[0]\n",
        "\n",
        "\n",
        "categories = ['Hommes', 'Femmes']\n",
        "nombre_fumeurs = [hommes_fumeurs, femmes_fumeuses]\n",
        "\n",
        "plt.bar(categories, nombre_fumeurs, color=['blue', 'pink'])\n",
        "plt.xlabel('Genre')\n",
        "plt.ylabel('Nombre de fumeurs')\n",
        "plt.title('Nombre de fumeurs par genre')\n",
        "plt.show()"
      ]
    },
    {
      "cell_type": "code",
      "execution_count": null,
      "metadata": {
        "colab": {
          "base_uri": "https://localhost:8080/"
        },
        "id": "3syAJLehxjZE",
        "outputId": "edd77f27-9eff-427f-9107-ad721faa06da"
      },
      "outputs": [
        {
          "name": "stdout",
          "output_type": "stream",
          "text": [
            "43.437005664132265\n"
          ]
        }
      ],
      "source": [
        "# Filtrer les données pour les hommes fumeurs\n",
        "hommes_fumeurs = df[(df['gender'] == 'M') & (df['smoking'] == 1)]\n",
        "\n",
        "# Calculer la moyenne d'âge des hommes fumeurs\n",
        "moyenne_age_hommes_fumeurs = hommes_fumeurs['age'].mean()\n",
        "\n",
        "print(moyenne_age_hommes_fumeurs)"
      ]
    },
    {
      "cell_type": "markdown",
      "metadata": {
        "id": "srF0rjhg0owm"
      },
      "source": [
        "La moyenne d'age des hommes fumeurs est 43.4 ans"
      ]
    },
    {
      "cell_type": "code",
      "execution_count": null,
      "metadata": {
        "colab": {
          "base_uri": "https://localhost:8080/",
          "height": 297
        },
        "id": "_V0vgyFOEBi2",
        "outputId": "00663197-1517-4ba1-d1d8-8fa44adb9886"
      },
      "outputs": [
        {
          "ename": "ValueError",
          "evalue": "could not convert string to float: 'F'",
          "output_type": "error",
          "traceback": [
            "\u001b[0;31m---------------------------------------------------------------------------\u001b[0m",
            "\u001b[0;31mValueError\u001b[0m                                Traceback (most recent call last)",
            "\u001b[0;32m<ipython-input-12-2f6f6606aa2c>\u001b[0m in \u001b[0;36m<cell line: 1>\u001b[0;34m()\u001b[0m\n\u001b[0;32m----> 1\u001b[0;31m \u001b[0mdf\u001b[0m\u001b[0;34m.\u001b[0m\u001b[0mcorr\u001b[0m\u001b[0;34m(\u001b[0m\u001b[0;34m)\u001b[0m\u001b[0;34m\u001b[0m\u001b[0;34m\u001b[0m\u001b[0m\n\u001b[0m",
            "\u001b[0;32m/usr/local/lib/python3.10/dist-packages/pandas/core/frame.py\u001b[0m in \u001b[0;36mcorr\u001b[0;34m(self, method, min_periods, numeric_only)\u001b[0m\n\u001b[1;32m  10052\u001b[0m         \u001b[0mcols\u001b[0m \u001b[0;34m=\u001b[0m \u001b[0mdata\u001b[0m\u001b[0;34m.\u001b[0m\u001b[0mcolumns\u001b[0m\u001b[0;34m\u001b[0m\u001b[0;34m\u001b[0m\u001b[0m\n\u001b[1;32m  10053\u001b[0m         \u001b[0midx\u001b[0m \u001b[0;34m=\u001b[0m \u001b[0mcols\u001b[0m\u001b[0;34m.\u001b[0m\u001b[0mcopy\u001b[0m\u001b[0;34m(\u001b[0m\u001b[0;34m)\u001b[0m\u001b[0;34m\u001b[0m\u001b[0;34m\u001b[0m\u001b[0m\n\u001b[0;32m> 10054\u001b[0;31m         \u001b[0mmat\u001b[0m \u001b[0;34m=\u001b[0m \u001b[0mdata\u001b[0m\u001b[0;34m.\u001b[0m\u001b[0mto_numpy\u001b[0m\u001b[0;34m(\u001b[0m\u001b[0mdtype\u001b[0m\u001b[0;34m=\u001b[0m\u001b[0mfloat\u001b[0m\u001b[0;34m,\u001b[0m \u001b[0mna_value\u001b[0m\u001b[0;34m=\u001b[0m\u001b[0mnp\u001b[0m\u001b[0;34m.\u001b[0m\u001b[0mnan\u001b[0m\u001b[0;34m,\u001b[0m \u001b[0mcopy\u001b[0m\u001b[0;34m=\u001b[0m\u001b[0;32mFalse\u001b[0m\u001b[0;34m)\u001b[0m\u001b[0;34m\u001b[0m\u001b[0;34m\u001b[0m\u001b[0m\n\u001b[0m\u001b[1;32m  10055\u001b[0m \u001b[0;34m\u001b[0m\u001b[0m\n\u001b[1;32m  10056\u001b[0m         \u001b[0;32mif\u001b[0m \u001b[0mmethod\u001b[0m \u001b[0;34m==\u001b[0m \u001b[0;34m\"pearson\"\u001b[0m\u001b[0;34m:\u001b[0m\u001b[0;34m\u001b[0m\u001b[0;34m\u001b[0m\u001b[0m\n",
            "\u001b[0;32m/usr/local/lib/python3.10/dist-packages/pandas/core/frame.py\u001b[0m in \u001b[0;36mto_numpy\u001b[0;34m(self, dtype, copy, na_value)\u001b[0m\n\u001b[1;32m   1836\u001b[0m         \u001b[0;32mif\u001b[0m \u001b[0mdtype\u001b[0m \u001b[0;32mis\u001b[0m \u001b[0;32mnot\u001b[0m \u001b[0;32mNone\u001b[0m\u001b[0;34m:\u001b[0m\u001b[0;34m\u001b[0m\u001b[0;34m\u001b[0m\u001b[0m\n\u001b[1;32m   1837\u001b[0m             \u001b[0mdtype\u001b[0m \u001b[0;34m=\u001b[0m \u001b[0mnp\u001b[0m\u001b[0;34m.\u001b[0m\u001b[0mdtype\u001b[0m\u001b[0;34m(\u001b[0m\u001b[0mdtype\u001b[0m\u001b[0;34m)\u001b[0m\u001b[0;34m\u001b[0m\u001b[0;34m\u001b[0m\u001b[0m\n\u001b[0;32m-> 1838\u001b[0;31m         \u001b[0mresult\u001b[0m \u001b[0;34m=\u001b[0m \u001b[0mself\u001b[0m\u001b[0;34m.\u001b[0m\u001b[0m_mgr\u001b[0m\u001b[0;34m.\u001b[0m\u001b[0mas_array\u001b[0m\u001b[0;34m(\u001b[0m\u001b[0mdtype\u001b[0m\u001b[0;34m=\u001b[0m\u001b[0mdtype\u001b[0m\u001b[0;34m,\u001b[0m \u001b[0mcopy\u001b[0m\u001b[0;34m=\u001b[0m\u001b[0mcopy\u001b[0m\u001b[0;34m,\u001b[0m \u001b[0mna_value\u001b[0m\u001b[0;34m=\u001b[0m\u001b[0mna_value\u001b[0m\u001b[0;34m)\u001b[0m\u001b[0;34m\u001b[0m\u001b[0;34m\u001b[0m\u001b[0m\n\u001b[0m\u001b[1;32m   1839\u001b[0m         \u001b[0;32mif\u001b[0m \u001b[0mresult\u001b[0m\u001b[0;34m.\u001b[0m\u001b[0mdtype\u001b[0m \u001b[0;32mis\u001b[0m \u001b[0;32mnot\u001b[0m \u001b[0mdtype\u001b[0m\u001b[0;34m:\u001b[0m\u001b[0;34m\u001b[0m\u001b[0;34m\u001b[0m\u001b[0m\n\u001b[1;32m   1840\u001b[0m             \u001b[0mresult\u001b[0m \u001b[0;34m=\u001b[0m \u001b[0mnp\u001b[0m\u001b[0;34m.\u001b[0m\u001b[0marray\u001b[0m\u001b[0;34m(\u001b[0m\u001b[0mresult\u001b[0m\u001b[0;34m,\u001b[0m \u001b[0mdtype\u001b[0m\u001b[0;34m=\u001b[0m\u001b[0mdtype\u001b[0m\u001b[0;34m,\u001b[0m \u001b[0mcopy\u001b[0m\u001b[0;34m=\u001b[0m\u001b[0;32mFalse\u001b[0m\u001b[0;34m)\u001b[0m\u001b[0;34m\u001b[0m\u001b[0;34m\u001b[0m\u001b[0m\n",
            "\u001b[0;32m/usr/local/lib/python3.10/dist-packages/pandas/core/internals/managers.py\u001b[0m in \u001b[0;36mas_array\u001b[0;34m(self, dtype, copy, na_value)\u001b[0m\n\u001b[1;32m   1730\u001b[0m                 \u001b[0marr\u001b[0m\u001b[0;34m.\u001b[0m\u001b[0mflags\u001b[0m\u001b[0;34m.\u001b[0m\u001b[0mwriteable\u001b[0m \u001b[0;34m=\u001b[0m \u001b[0;32mFalse\u001b[0m\u001b[0;34m\u001b[0m\u001b[0;34m\u001b[0m\u001b[0m\n\u001b[1;32m   1731\u001b[0m         \u001b[0;32melse\u001b[0m\u001b[0;34m:\u001b[0m\u001b[0;34m\u001b[0m\u001b[0;34m\u001b[0m\u001b[0m\n\u001b[0;32m-> 1732\u001b[0;31m             \u001b[0marr\u001b[0m \u001b[0;34m=\u001b[0m \u001b[0mself\u001b[0m\u001b[0;34m.\u001b[0m\u001b[0m_interleave\u001b[0m\u001b[0;34m(\u001b[0m\u001b[0mdtype\u001b[0m\u001b[0;34m=\u001b[0m\u001b[0mdtype\u001b[0m\u001b[0;34m,\u001b[0m \u001b[0mna_value\u001b[0m\u001b[0;34m=\u001b[0m\u001b[0mna_value\u001b[0m\u001b[0;34m)\u001b[0m\u001b[0;34m\u001b[0m\u001b[0;34m\u001b[0m\u001b[0m\n\u001b[0m\u001b[1;32m   1733\u001b[0m             \u001b[0;31m# The underlying data was copied within _interleave, so no need\u001b[0m\u001b[0;34m\u001b[0m\u001b[0;34m\u001b[0m\u001b[0m\n\u001b[1;32m   1734\u001b[0m             \u001b[0;31m# to further copy if copy=True or setting na_value\u001b[0m\u001b[0;34m\u001b[0m\u001b[0;34m\u001b[0m\u001b[0m\n",
            "\u001b[0;32m/usr/local/lib/python3.10/dist-packages/pandas/core/internals/managers.py\u001b[0m in \u001b[0;36m_interleave\u001b[0;34m(self, dtype, na_value)\u001b[0m\n\u001b[1;32m   1792\u001b[0m             \u001b[0;32melse\u001b[0m\u001b[0;34m:\u001b[0m\u001b[0;34m\u001b[0m\u001b[0;34m\u001b[0m\u001b[0m\n\u001b[1;32m   1793\u001b[0m                 \u001b[0marr\u001b[0m \u001b[0;34m=\u001b[0m \u001b[0mblk\u001b[0m\u001b[0;34m.\u001b[0m\u001b[0mget_values\u001b[0m\u001b[0;34m(\u001b[0m\u001b[0mdtype\u001b[0m\u001b[0;34m)\u001b[0m\u001b[0;34m\u001b[0m\u001b[0;34m\u001b[0m\u001b[0m\n\u001b[0;32m-> 1794\u001b[0;31m             \u001b[0mresult\u001b[0m\u001b[0;34m[\u001b[0m\u001b[0mrl\u001b[0m\u001b[0;34m.\u001b[0m\u001b[0mindexer\u001b[0m\u001b[0;34m]\u001b[0m \u001b[0;34m=\u001b[0m \u001b[0marr\u001b[0m\u001b[0;34m\u001b[0m\u001b[0;34m\u001b[0m\u001b[0m\n\u001b[0m\u001b[1;32m   1795\u001b[0m             \u001b[0mitemmask\u001b[0m\u001b[0;34m[\u001b[0m\u001b[0mrl\u001b[0m\u001b[0;34m.\u001b[0m\u001b[0mindexer\u001b[0m\u001b[0;34m]\u001b[0m \u001b[0;34m=\u001b[0m \u001b[0;36m1\u001b[0m\u001b[0;34m\u001b[0m\u001b[0;34m\u001b[0m\u001b[0m\n\u001b[1;32m   1796\u001b[0m \u001b[0;34m\u001b[0m\u001b[0m\n",
            "\u001b[0;31mValueError\u001b[0m: could not convert string to float: 'F'"
          ]
        }
      ],
      "source": [
        "df.corr()"
      ]
    },
    {
      "cell_type": "markdown",
      "metadata": {
        "id": "5nIjz1rnGtUG"
      },
      "source": [
        "Il y a une erreur\n"
      ]
    },
    {
      "cell_type": "markdown",
      "metadata": {
        "id": "yyBvB-X8Hinn"
      },
      "source": [
        "**Partie 2**"
      ]
    },
    {
      "cell_type": "markdown",
      "metadata": {
        "id": "ep_nsKoDHvM7"
      },
      "source": [
        "La méthode d'imputation par la moyenne/médiane semble plus appropriée car elle est simple d'utilisation et ne supprime pas de données.\n",
        "\n",
        "la moyenne/médiane remplace les valeurs manquantes par la moyenne ou la médiane de la colonne correspondante\n",
        "\n",
        "Ici, on a rajouté des lignes permettants de prendre en compte des valeurs string qu'il y avait dans les données.\n",
        "\n"
      ]
    },
    {
      "cell_type": "code",
      "execution_count": null,
      "metadata": {
        "colab": {
          "base_uri": "https://localhost:8080/",
          "height": 309
        },
        "id": "gne9Hx4U_XEj",
        "outputId": "7d288c6c-3dc9-4709-a48d-73920cfe020a"
      },
      "outputs": [
        {
          "output_type": "stream",
          "name": "stderr",
          "text": [
            "/usr/local/lib/python3.10/dist-packages/sklearn/preprocessing/_encoders.py:868: FutureWarning: `sparse` was renamed to `sparse_output` in version 1.2 and will be removed in 1.4. `sparse_output` is ignored unless you leave `sparse` to its default value.\n",
            "  warnings.warn(\n"
          ]
        },
        {
          "output_type": "execute_result",
          "data": {
            "text/plain": [
              "    ID   age  height(cm)  weight(kg)  waist(cm)  eyesight(left)  \\\n",
              "0  0.0  40.0       155.0        60.0       81.3             1.2   \n",
              "1  1.0  40.0       160.0        60.0       81.0             0.8   \n",
              "2  2.0  55.0       170.0        60.0       80.0             0.8   \n",
              "3  3.0  40.0       165.0        70.0       88.0             1.5   \n",
              "4  4.0  40.0       155.0        60.0       86.0             1.0   \n",
              "\n",
              "   eyesight(right)  hearing(left)  hearing(right)  systolic  ...  hemoglobin  \\\n",
              "0              1.0            1.0             1.0     114.0  ...        12.9   \n",
              "1              0.6            1.0             1.0     119.0  ...        12.7   \n",
              "2              0.8            1.0             1.0     138.0  ...        15.8   \n",
              "3              1.5            1.0             1.0     100.0  ...        14.7   \n",
              "4              1.0            1.0             1.0     120.0  ...        12.5   \n",
              "\n",
              "   Urine protein  serum creatinine   AST   ALT   Gtp  dental caries  smoking  \\\n",
              "0            1.0               0.7  18.0  19.0  27.0            0.0      0.0   \n",
              "1            1.0               0.6  22.0  19.0  18.0            0.0      0.0   \n",
              "2            1.0               1.0  21.0  16.0  22.0            0.0      1.0   \n",
              "3            1.0               1.0  19.0  26.0  18.0            0.0      0.0   \n",
              "4            1.0               0.6  16.0  14.0  22.0            0.0      0.0   \n",
              "\n",
              "   tartar_Y  gender_M  \n",
              "0       1.0       0.0  \n",
              "1       1.0       0.0  \n",
              "2       0.0       1.0  \n",
              "3       1.0       1.0  \n",
              "4       0.0       0.0  \n",
              "\n",
              "[5 rows x 26 columns]"
            ],
            "text/html": [
              "\n",
              "  <div id=\"df-3a75adce-0882-489d-bd0f-7dc47278912b\" class=\"colab-df-container\">\n",
              "    <div>\n",
              "<style scoped>\n",
              "    .dataframe tbody tr th:only-of-type {\n",
              "        vertical-align: middle;\n",
              "    }\n",
              "\n",
              "    .dataframe tbody tr th {\n",
              "        vertical-align: top;\n",
              "    }\n",
              "\n",
              "    .dataframe thead th {\n",
              "        text-align: right;\n",
              "    }\n",
              "</style>\n",
              "<table border=\"1\" class=\"dataframe\">\n",
              "  <thead>\n",
              "    <tr style=\"text-align: right;\">\n",
              "      <th></th>\n",
              "      <th>ID</th>\n",
              "      <th>age</th>\n",
              "      <th>height(cm)</th>\n",
              "      <th>weight(kg)</th>\n",
              "      <th>waist(cm)</th>\n",
              "      <th>eyesight(left)</th>\n",
              "      <th>eyesight(right)</th>\n",
              "      <th>hearing(left)</th>\n",
              "      <th>hearing(right)</th>\n",
              "      <th>systolic</th>\n",
              "      <th>...</th>\n",
              "      <th>hemoglobin</th>\n",
              "      <th>Urine protein</th>\n",
              "      <th>serum creatinine</th>\n",
              "      <th>AST</th>\n",
              "      <th>ALT</th>\n",
              "      <th>Gtp</th>\n",
              "      <th>dental caries</th>\n",
              "      <th>smoking</th>\n",
              "      <th>tartar_Y</th>\n",
              "      <th>gender_M</th>\n",
              "    </tr>\n",
              "  </thead>\n",
              "  <tbody>\n",
              "    <tr>\n",
              "      <th>0</th>\n",
              "      <td>0.0</td>\n",
              "      <td>40.0</td>\n",
              "      <td>155.0</td>\n",
              "      <td>60.0</td>\n",
              "      <td>81.3</td>\n",
              "      <td>1.2</td>\n",
              "      <td>1.0</td>\n",
              "      <td>1.0</td>\n",
              "      <td>1.0</td>\n",
              "      <td>114.0</td>\n",
              "      <td>...</td>\n",
              "      <td>12.9</td>\n",
              "      <td>1.0</td>\n",
              "      <td>0.7</td>\n",
              "      <td>18.0</td>\n",
              "      <td>19.0</td>\n",
              "      <td>27.0</td>\n",
              "      <td>0.0</td>\n",
              "      <td>0.0</td>\n",
              "      <td>1.0</td>\n",
              "      <td>0.0</td>\n",
              "    </tr>\n",
              "    <tr>\n",
              "      <th>1</th>\n",
              "      <td>1.0</td>\n",
              "      <td>40.0</td>\n",
              "      <td>160.0</td>\n",
              "      <td>60.0</td>\n",
              "      <td>81.0</td>\n",
              "      <td>0.8</td>\n",
              "      <td>0.6</td>\n",
              "      <td>1.0</td>\n",
              "      <td>1.0</td>\n",
              "      <td>119.0</td>\n",
              "      <td>...</td>\n",
              "      <td>12.7</td>\n",
              "      <td>1.0</td>\n",
              "      <td>0.6</td>\n",
              "      <td>22.0</td>\n",
              "      <td>19.0</td>\n",
              "      <td>18.0</td>\n",
              "      <td>0.0</td>\n",
              "      <td>0.0</td>\n",
              "      <td>1.0</td>\n",
              "      <td>0.0</td>\n",
              "    </tr>\n",
              "    <tr>\n",
              "      <th>2</th>\n",
              "      <td>2.0</td>\n",
              "      <td>55.0</td>\n",
              "      <td>170.0</td>\n",
              "      <td>60.0</td>\n",
              "      <td>80.0</td>\n",
              "      <td>0.8</td>\n",
              "      <td>0.8</td>\n",
              "      <td>1.0</td>\n",
              "      <td>1.0</td>\n",
              "      <td>138.0</td>\n",
              "      <td>...</td>\n",
              "      <td>15.8</td>\n",
              "      <td>1.0</td>\n",
              "      <td>1.0</td>\n",
              "      <td>21.0</td>\n",
              "      <td>16.0</td>\n",
              "      <td>22.0</td>\n",
              "      <td>0.0</td>\n",
              "      <td>1.0</td>\n",
              "      <td>0.0</td>\n",
              "      <td>1.0</td>\n",
              "    </tr>\n",
              "    <tr>\n",
              "      <th>3</th>\n",
              "      <td>3.0</td>\n",
              "      <td>40.0</td>\n",
              "      <td>165.0</td>\n",
              "      <td>70.0</td>\n",
              "      <td>88.0</td>\n",
              "      <td>1.5</td>\n",
              "      <td>1.5</td>\n",
              "      <td>1.0</td>\n",
              "      <td>1.0</td>\n",
              "      <td>100.0</td>\n",
              "      <td>...</td>\n",
              "      <td>14.7</td>\n",
              "      <td>1.0</td>\n",
              "      <td>1.0</td>\n",
              "      <td>19.0</td>\n",
              "      <td>26.0</td>\n",
              "      <td>18.0</td>\n",
              "      <td>0.0</td>\n",
              "      <td>0.0</td>\n",
              "      <td>1.0</td>\n",
              "      <td>1.0</td>\n",
              "    </tr>\n",
              "    <tr>\n",
              "      <th>4</th>\n",
              "      <td>4.0</td>\n",
              "      <td>40.0</td>\n",
              "      <td>155.0</td>\n",
              "      <td>60.0</td>\n",
              "      <td>86.0</td>\n",
              "      <td>1.0</td>\n",
              "      <td>1.0</td>\n",
              "      <td>1.0</td>\n",
              "      <td>1.0</td>\n",
              "      <td>120.0</td>\n",
              "      <td>...</td>\n",
              "      <td>12.5</td>\n",
              "      <td>1.0</td>\n",
              "      <td>0.6</td>\n",
              "      <td>16.0</td>\n",
              "      <td>14.0</td>\n",
              "      <td>22.0</td>\n",
              "      <td>0.0</td>\n",
              "      <td>0.0</td>\n",
              "      <td>0.0</td>\n",
              "      <td>0.0</td>\n",
              "    </tr>\n",
              "  </tbody>\n",
              "</table>\n",
              "<p>5 rows × 26 columns</p>\n",
              "</div>\n",
              "    <div class=\"colab-df-buttons\">\n",
              "\n",
              "  <div class=\"colab-df-container\">\n",
              "    <button class=\"colab-df-convert\" onclick=\"convertToInteractive('df-3a75adce-0882-489d-bd0f-7dc47278912b')\"\n",
              "            title=\"Convert this dataframe to an interactive table.\"\n",
              "            style=\"display:none;\">\n",
              "\n",
              "  <svg xmlns=\"http://www.w3.org/2000/svg\" height=\"24px\" viewBox=\"0 -960 960 960\">\n",
              "    <path d=\"M120-120v-720h720v720H120Zm60-500h600v-160H180v160Zm220 220h160v-160H400v160Zm0 220h160v-160H400v160ZM180-400h160v-160H180v160Zm440 0h160v-160H620v160ZM180-180h160v-160H180v160Zm440 0h160v-160H620v160Z\"/>\n",
              "  </svg>\n",
              "    </button>\n",
              "\n",
              "  <style>\n",
              "    .colab-df-container {\n",
              "      display:flex;\n",
              "      gap: 12px;\n",
              "    }\n",
              "\n",
              "    .colab-df-convert {\n",
              "      background-color: #E8F0FE;\n",
              "      border: none;\n",
              "      border-radius: 50%;\n",
              "      cursor: pointer;\n",
              "      display: none;\n",
              "      fill: #1967D2;\n",
              "      height: 32px;\n",
              "      padding: 0 0 0 0;\n",
              "      width: 32px;\n",
              "    }\n",
              "\n",
              "    .colab-df-convert:hover {\n",
              "      background-color: #E2EBFA;\n",
              "      box-shadow: 0px 1px 2px rgba(60, 64, 67, 0.3), 0px 1px 3px 1px rgba(60, 64, 67, 0.15);\n",
              "      fill: #174EA6;\n",
              "    }\n",
              "\n",
              "    .colab-df-buttons div {\n",
              "      margin-bottom: 4px;\n",
              "    }\n",
              "\n",
              "    [theme=dark] .colab-df-convert {\n",
              "      background-color: #3B4455;\n",
              "      fill: #D2E3FC;\n",
              "    }\n",
              "\n",
              "    [theme=dark] .colab-df-convert:hover {\n",
              "      background-color: #434B5C;\n",
              "      box-shadow: 0px 1px 3px 1px rgba(0, 0, 0, 0.15);\n",
              "      filter: drop-shadow(0px 1px 2px rgba(0, 0, 0, 0.3));\n",
              "      fill: #FFFFFF;\n",
              "    }\n",
              "  </style>\n",
              "\n",
              "    <script>\n",
              "      const buttonEl =\n",
              "        document.querySelector('#df-3a75adce-0882-489d-bd0f-7dc47278912b button.colab-df-convert');\n",
              "      buttonEl.style.display =\n",
              "        google.colab.kernel.accessAllowed ? 'block' : 'none';\n",
              "\n",
              "      async function convertToInteractive(key) {\n",
              "        const element = document.querySelector('#df-3a75adce-0882-489d-bd0f-7dc47278912b');\n",
              "        const dataTable =\n",
              "          await google.colab.kernel.invokeFunction('convertToInteractive',\n",
              "                                                    [key], {});\n",
              "        if (!dataTable) return;\n",
              "\n",
              "        const docLinkHtml = 'Like what you see? Visit the ' +\n",
              "          '<a target=\"_blank\" href=https://colab.research.google.com/notebooks/data_table.ipynb>data table notebook</a>'\n",
              "          + ' to learn more about interactive tables.';\n",
              "        element.innerHTML = '';\n",
              "        dataTable['output_type'] = 'display_data';\n",
              "        await google.colab.output.renderOutput(dataTable, element);\n",
              "        const docLink = document.createElement('div');\n",
              "        docLink.innerHTML = docLinkHtml;\n",
              "        element.appendChild(docLink);\n",
              "      }\n",
              "    </script>\n",
              "  </div>\n",
              "\n",
              "\n",
              "<div id=\"df-5462fb92-032c-40b6-bd00-5707df89c188\">\n",
              "  <button class=\"colab-df-quickchart\" onclick=\"quickchart('df-5462fb92-032c-40b6-bd00-5707df89c188')\"\n",
              "            title=\"Suggest charts\"\n",
              "            style=\"display:none;\">\n",
              "\n",
              "<svg xmlns=\"http://www.w3.org/2000/svg\" height=\"24px\"viewBox=\"0 0 24 24\"\n",
              "     width=\"24px\">\n",
              "    <g>\n",
              "        <path d=\"M19 3H5c-1.1 0-2 .9-2 2v14c0 1.1.9 2 2 2h14c1.1 0 2-.9 2-2V5c0-1.1-.9-2-2-2zM9 17H7v-7h2v7zm4 0h-2V7h2v10zm4 0h-2v-4h2v4z\"/>\n",
              "    </g>\n",
              "</svg>\n",
              "  </button>\n",
              "\n",
              "<style>\n",
              "  .colab-df-quickchart {\n",
              "      --bg-color: #E8F0FE;\n",
              "      --fill-color: #1967D2;\n",
              "      --hover-bg-color: #E2EBFA;\n",
              "      --hover-fill-color: #174EA6;\n",
              "      --disabled-fill-color: #AAA;\n",
              "      --disabled-bg-color: #DDD;\n",
              "  }\n",
              "\n",
              "  [theme=dark] .colab-df-quickchart {\n",
              "      --bg-color: #3B4455;\n",
              "      --fill-color: #D2E3FC;\n",
              "      --hover-bg-color: #434B5C;\n",
              "      --hover-fill-color: #FFFFFF;\n",
              "      --disabled-bg-color: #3B4455;\n",
              "      --disabled-fill-color: #666;\n",
              "  }\n",
              "\n",
              "  .colab-df-quickchart {\n",
              "    background-color: var(--bg-color);\n",
              "    border: none;\n",
              "    border-radius: 50%;\n",
              "    cursor: pointer;\n",
              "    display: none;\n",
              "    fill: var(--fill-color);\n",
              "    height: 32px;\n",
              "    padding: 0;\n",
              "    width: 32px;\n",
              "  }\n",
              "\n",
              "  .colab-df-quickchart:hover {\n",
              "    background-color: var(--hover-bg-color);\n",
              "    box-shadow: 0 1px 2px rgba(60, 64, 67, 0.3), 0 1px 3px 1px rgba(60, 64, 67, 0.15);\n",
              "    fill: var(--button-hover-fill-color);\n",
              "  }\n",
              "\n",
              "  .colab-df-quickchart-complete:disabled,\n",
              "  .colab-df-quickchart-complete:disabled:hover {\n",
              "    background-color: var(--disabled-bg-color);\n",
              "    fill: var(--disabled-fill-color);\n",
              "    box-shadow: none;\n",
              "  }\n",
              "\n",
              "  .colab-df-spinner {\n",
              "    border: 2px solid var(--fill-color);\n",
              "    border-color: transparent;\n",
              "    border-bottom-color: var(--fill-color);\n",
              "    animation:\n",
              "      spin 1s steps(1) infinite;\n",
              "  }\n",
              "\n",
              "  @keyframes spin {\n",
              "    0% {\n",
              "      border-color: transparent;\n",
              "      border-bottom-color: var(--fill-color);\n",
              "      border-left-color: var(--fill-color);\n",
              "    }\n",
              "    20% {\n",
              "      border-color: transparent;\n",
              "      border-left-color: var(--fill-color);\n",
              "      border-top-color: var(--fill-color);\n",
              "    }\n",
              "    30% {\n",
              "      border-color: transparent;\n",
              "      border-left-color: var(--fill-color);\n",
              "      border-top-color: var(--fill-color);\n",
              "      border-right-color: var(--fill-color);\n",
              "    }\n",
              "    40% {\n",
              "      border-color: transparent;\n",
              "      border-right-color: var(--fill-color);\n",
              "      border-top-color: var(--fill-color);\n",
              "    }\n",
              "    60% {\n",
              "      border-color: transparent;\n",
              "      border-right-color: var(--fill-color);\n",
              "    }\n",
              "    80% {\n",
              "      border-color: transparent;\n",
              "      border-right-color: var(--fill-color);\n",
              "      border-bottom-color: var(--fill-color);\n",
              "    }\n",
              "    90% {\n",
              "      border-color: transparent;\n",
              "      border-bottom-color: var(--fill-color);\n",
              "    }\n",
              "  }\n",
              "</style>\n",
              "\n",
              "  <script>\n",
              "    async function quickchart(key) {\n",
              "      const quickchartButtonEl =\n",
              "        document.querySelector('#' + key + ' button');\n",
              "      quickchartButtonEl.disabled = true;  // To prevent multiple clicks.\n",
              "      quickchartButtonEl.classList.add('colab-df-spinner');\n",
              "      try {\n",
              "        const charts = await google.colab.kernel.invokeFunction(\n",
              "            'suggestCharts', [key], {});\n",
              "      } catch (error) {\n",
              "        console.error('Error during call to suggestCharts:', error);\n",
              "      }\n",
              "      quickchartButtonEl.classList.remove('colab-df-spinner');\n",
              "      quickchartButtonEl.classList.add('colab-df-quickchart-complete');\n",
              "    }\n",
              "    (() => {\n",
              "      let quickchartButtonEl =\n",
              "        document.querySelector('#df-5462fb92-032c-40b6-bd00-5707df89c188 button');\n",
              "      quickchartButtonEl.style.display =\n",
              "        google.colab.kernel.accessAllowed ? 'block' : 'none';\n",
              "    })();\n",
              "  </script>\n",
              "</div>\n",
              "\n",
              "    </div>\n",
              "  </div>\n"
            ],
            "application/vnd.google.colaboratory.intrinsic+json": {
              "type": "dataframe",
              "variable_name": "df_encoded"
            }
          },
          "metadata": {},
          "execution_count": 3
        }
      ],
      "source": [
        "from sklearn.preprocessing import OneHotEncoder\n",
        "from sklearn.impute import SimpleImputer\n",
        "from sklearn.compose import ColumnTransformer\n",
        "from sklearn.pipeline import Pipeline\n",
        "\n",
        "# méthode d'imputation par la moyenne\n",
        "numeric_cols = df.select_dtypes(include=['number']).columns\n",
        "categorical_cols = df.select_dtypes(include=['object']).columns\n",
        "\n",
        "\n",
        "numeric_imputer = SimpleImputer(strategy='mean')\n",
        "categorical_imputer = SimpleImputer(strategy='most_frequent')\n",
        "\n",
        "df[numeric_cols] = numeric_imputer.fit_transform(df[numeric_cols])\n",
        "df[categorical_cols] = categorical_imputer.fit_transform(df[categorical_cols])\n",
        "\n",
        "# OneHotEncoder :\n",
        "\n",
        "colonnes = ['tartar', 'gender', 'oral']\n",
        "encoder = OneHotEncoder(drop='first', sparse=False)\n",
        "encoded = encoder.fit_transform(df[colonnes])\n",
        "encoded_df = pd.DataFrame(encoded, columns=encoder.get_feature_names_out(colonnes))\n",
        "\n",
        "df_imputed = df.drop(columns=colonnes).reset_index(drop=True)\n",
        "df_encoded = pd.concat([df_imputed, encoded_df], axis=1)\n",
        "\n",
        "df_encoded.head()"
      ]
    },
    {
      "cell_type": "markdown",
      "metadata": {
        "id": "_x1vRhc-BPqh"
      },
      "source": [
        "Nous aurions pu faire une imputation des valeurs manquantes ou une normalisation"
      ]
    },
    {
      "cell_type": "markdown",
      "metadata": {
        "id": "n1UeJHGsBaCu"
      },
      "source": [
        "# **Partie 3**"
      ]
    },
    {
      "cell_type": "code",
      "execution_count": null,
      "metadata": {
        "colab": {
          "base_uri": "https://localhost:8080/"
        },
        "id": "zKkBt_0vCJCX",
        "outputId": "e4cbe7a3-f6bd-45b6-e142-883a5918ca36"
      },
      "outputs": [
        {
          "output_type": "stream",
          "name": "stdout",
          "text": [
            "(44561, 25)\n",
            "(11141, 25)\n",
            "(44561,)\n",
            "(11141,)\n"
          ]
        }
      ],
      "source": [
        "from sklearn.model_selection import train_test_split\n",
        "\n",
        "X = df_encoded.drop(columns=['smoking'])\n",
        "y = df_encoded['smoking']\n",
        "\n",
        "X_train, X_test, y_train, y_test = train_test_split(X, y, test_size=0.2, random_state=42)\n",
        "\n",
        "print(X_train.shape)\n",
        "print(X_test.shape)\n",
        "print(y_train.shape)\n",
        "print(y_test.shape)\n",
        "\n"
      ]
    },
    {
      "cell_type": "markdown",
      "metadata": {
        "id": "rvHO6-vfCPca"
      },
      "source": [
        "Nous avons choisit 20% des données pour l'entrainement et 80% des données pour le test.\n",
        "\n",
        "Il est important de diviser les données pour ne pas biaiser les résultats en utilisant les mêmes données pour l'entrainement et le test."
      ]
    },
    {
      "cell_type": "markdown",
      "metadata": {
        "id": "X-hTxEELRRsC"
      },
      "source": [
        "# 3.2"
      ]
    },
    {
      "cell_type": "code",
      "execution_count": null,
      "metadata": {
        "colab": {
          "base_uri": "https://localhost:8080/"
        },
        "id": "PcDTjomvC-EH",
        "outputId": "855ca2a7-4aca-420f-8674-2c4adf67ebb2"
      },
      "outputs": [
        {
          "name": "stdout",
          "output_type": "stream",
          "text": [
            "              precision    recall  f1-score   support\n",
            "\n",
            "         0.0       0.81      0.78      0.79      6977\n",
            "         1.0       0.65      0.69      0.67      4164\n",
            "\n",
            "    accuracy                           0.75     11141\n",
            "   macro avg       0.73      0.73      0.73     11141\n",
            "weighted avg       0.75      0.75      0.75     11141\n",
            "\n"
          ]
        }
      ],
      "source": [
        "from sklearn.linear_model import LogisticRegression\n",
        "from sklearn.metrics import classification_report\n",
        "from sklearn.preprocessing import StandardScaler\n",
        "\n",
        "\n",
        "scaler = StandardScaler()\n",
        "X_train_scaled = scaler.fit_transform(X_train)\n",
        "X_test_scaled = scaler.transform(X_test)\n",
        "\n",
        "\n",
        "model = LogisticRegression(random_state=42)\n",
        "model.fit(X_train_scaled, y_train)\n",
        "\n",
        "y_pred = model.predict(X_test_scaled)\n",
        "\n",
        "report = classification_report(y_test, y_pred)\n",
        "\n",
        "print(report)"
      ]
    },
    {
      "cell_type": "markdown",
      "metadata": {
        "id": "uVXt3BSJQwOU"
      },
      "source": [
        "Voici les résultats :\n",
        "\n",
        "              precision    recall  f1-score   support\n",
        "\n",
        "         0.0       0.81      0.78      0.79      6977\n",
        "         1.0       0.65      0.69      0.67      4164\n",
        "\n",
        "    accuracy                           0.75     11141"
      ]
    },
    {
      "cell_type": "markdown",
      "metadata": {
        "id": "8qTfL4c2QyCf"
      },
      "source": [
        "# 3.3"
      ]
    },
    {
      "cell_type": "markdown",
      "metadata": {
        "id": "dM9N-EfpSGMs"
      },
      "source": [
        "Arbre de décision :"
      ]
    },
    {
      "cell_type": "code",
      "execution_count": null,
      "metadata": {
        "colab": {
          "base_uri": "https://localhost:8080/"
        },
        "id": "5AzDZ2fcRWxH",
        "outputId": "70954789-a2b7-44cf-a851-02322dac440f"
      },
      "outputs": [
        {
          "name": "stdout",
          "output_type": "stream",
          "text": [
            "Fitting 5 folds for each of 108 candidates, totalling 540 fits\n",
            "Best hyperparameters: {'criterion': 'gini', 'max_depth': 30, 'min_samples_leaf': 1, 'min_samples_split': 2}\n",
            "              precision    recall  f1-score   support\n",
            "\n",
            "         0.0       0.81      0.82      0.82      6977\n",
            "         1.0       0.69      0.69      0.69      4164\n",
            "\n",
            "    accuracy                           0.77     11141\n",
            "   macro avg       0.75      0.75      0.75     11141\n",
            "weighted avg       0.77      0.77      0.77     11141\n",
            "\n"
          ]
        }
      ],
      "source": [
        "from sklearn.model_selection import GridSearchCV\n",
        "from sklearn.preprocessing import StandardScaler\n",
        "from sklearn.tree import DecisionTreeClassifier\n",
        "from sklearn.metrics import classification_report\n",
        "\n",
        "scaler = StandardScaler()\n",
        "X_train_scaled = scaler.fit_transform(X_train)\n",
        "X_test_scaled = scaler.transform(X_test)\n",
        "\n",
        "\n",
        "dt_model = DecisionTreeClassifier(random_state=42)\n",
        "\n",
        "\n",
        "param_grid = {\n",
        "    'max_depth': [None, 10, 20, 30, 40, 50],\n",
        "    'min_samples_split': [2, 5, 10],\n",
        "    'min_samples_leaf': [1, 2, 4],\n",
        "    'criterion': ['gini', 'entropy']\n",
        "}\n",
        "\n",
        "grid_search = GridSearchCV(estimator=dt_model, param_grid=param_grid, cv=5, n_jobs=-1, verbose=2)\n",
        "grid_search.fit(X_train_scaled, y_train)\n",
        "\n",
        "best_params = grid_search.best_params_\n",
        "print(f\"Best hyperparameters: {best_params}\")\n",
        "\n",
        "best_dt_model = grid_search.best_estimator_\n",
        "best_dt_model.fit(X_train_scaled, y_train)\n",
        "\n",
        "\n",
        "y_pred = best_dt_model.predict(X_test_scaled)\n",
        "\n",
        "report = classification_report(y_test, y_pred)\n",
        "print(report)"
      ]
    },
    {
      "cell_type": "markdown",
      "metadata": {
        "id": "sJSsRCCwTUSf"
      },
      "source": [
        "Les meilleurs hyperparamètres sont : {'criterion': 'gini', 'max_depth': 30, 'min_samples_leaf': 1, 'min_samples_split': 2}\n",
        "\n",
        "voici les résultats :\n",
        "\n",
        "              precision    recall  f1-score   support\n",
        "\n",
        "         0.0       0.81      0.82      0.82      6977\n",
        "         1.0       0.69      0.69      0.69      4164\n",
        "\n",
        "    accuracy                           0.77     11141\n"
      ]
    },
    {
      "cell_type": "markdown",
      "metadata": {
        "id": "9M1TBx73TmWo"
      },
      "source": [
        "KNN :"
      ]
    },
    {
      "cell_type": "code",
      "execution_count": null,
      "metadata": {
        "colab": {
          "base_uri": "https://localhost:8080/"
        },
        "id": "xTNaKhX2UBBF",
        "outputId": "c7cba845-ce46-45be-a8aa-f1ff3ac9934e"
      },
      "outputs": [
        {
          "name": "stdout",
          "output_type": "stream",
          "text": [
            "Fitting 5 folds for each of 30 candidates, totalling 150 fits\n",
            "Best hyperparameters: {'metric': 'manhattan', 'n_neighbors': 9, 'weights': 'distance'}\n",
            "              precision    recall  f1-score   support\n",
            "\n",
            "         0.0       0.83      0.84      0.84      6977\n",
            "         1.0       0.73      0.72      0.72      4164\n",
            "\n",
            "    accuracy                           0.79     11141\n",
            "   macro avg       0.78      0.78      0.78     11141\n",
            "weighted avg       0.79      0.79      0.79     11141\n",
            "\n"
          ]
        }
      ],
      "source": [
        "from sklearn.preprocessing import StandardScaler\n",
        "from sklearn.neighbors import KNeighborsClassifier\n",
        "from sklearn.metrics import classification_report\n",
        "from sklearn.model_selection import GridSearchCV\n",
        "\n",
        "scaler = StandardScaler()\n",
        "X_train_scaled = scaler.fit_transform(X_train)\n",
        "X_test_scaled = scaler.transform(X_test)\n",
        "\n",
        "# Définir le modèle KNN\n",
        "knn_model = KNeighborsClassifier()\n",
        "\n",
        "# Définir la grille d'hyperparamètres à rechercher\n",
        "param_grid = {\n",
        "    'n_neighbors': [3, 5, 7, 9, 11],\n",
        "    'weights': ['uniform', 'distance'],\n",
        "    'metric': ['euclidean', 'manhattan', 'minkowski']\n",
        "}\n",
        "\n",
        "# Utiliser GridSearchCV pour trouver les meilleurs hyperparamètres\n",
        "grid_search = GridSearchCV(estimator=knn_model, param_grid=param_grid, cv=5, n_jobs=-1, verbose=2)\n",
        "grid_search.fit(X_train_scaled, y_train)\n",
        "\n",
        "# Afficher les meilleurs hyperparamètres\n",
        "best_params = grid_search.best_params_\n",
        "print(f\"Best hyperparameters: {best_params}\")\n",
        "\n",
        "# Entraîner le modèle avec les meilleurs hyperparamètres\n",
        "best_knn_model = grid_search.best_estimator_\n",
        "best_knn_model.fit(X_train_scaled, y_train)\n",
        "\n",
        "# Prédictions sur l'ensemble de test\n",
        "y_pred = best_knn_model.predict(X_test_scaled)\n",
        "\n",
        "# Évaluation du modèle\n",
        "report = classification_report(y_test, y_pred)\n",
        "print(report)"
      ]
    },
    {
      "cell_type": "markdown",
      "metadata": {
        "id": "cDfeB-7b5zAM"
      },
      "source": [
        "les meilleurs paramètres sont : {'metric': 'manhattan', 'n_neighbors': 9, 'weights': 'distance'}\n",
        "\n",
        "les résultats :\n",
        "\n",
        "              precision    recall  f1-score   support\n",
        "\n",
        "         0.0       0.83      0.84      0.84      6977\n",
        "         1.0       0.73      0.72      0.72      4164\n",
        "\n",
        "    accuracy                           0.79     11141"
      ]
    },
    {
      "cell_type": "markdown",
      "metadata": {
        "id": "JjOrUhrb50y4"
      },
      "source": [
        "# Random Forest"
      ]
    },
    {
      "cell_type": "code",
      "execution_count": null,
      "metadata": {
        "id": "UA_e4uJE51Cn",
        "colab": {
          "base_uri": "https://localhost:8080/"
        },
        "outputId": "2f3b8aea-8657-455c-ef43-b75c6f93a516"
      },
      "outputs": [
        {
          "output_type": "stream",
          "name": "stdout",
          "text": [
            "Fitting 5 folds for each of 3 candidates, totalling 15 fits\n",
            "Best hyperparameters: {'criterion': 'gini', 'max_depth': 28, 'min_samples_leaf': 7, 'min_samples_split': 4, 'n_estimators': 558}\n",
            "              precision    recall  f1-score   support\n",
            "\n",
            "         0.0       0.86      0.82      0.84      6977\n",
            "         1.0       0.72      0.77      0.75      4164\n",
            "\n",
            "    accuracy                           0.80     11141\n",
            "   macro avg       0.79      0.80      0.79     11141\n",
            "weighted avg       0.81      0.80      0.81     11141\n",
            "\n"
          ]
        }
      ],
      "source": [
        "from sklearn.model_selection import RandomizedSearchCV\n",
        "from sklearn.preprocessing import StandardScaler\n",
        "from sklearn.ensemble import RandomForestClassifier\n",
        "from sklearn.metrics import classification_report\n",
        "from scipy.stats import randint\n",
        "\n",
        "# Normaliser les données\n",
        "scaler = StandardScaler()\n",
        "X_train_scaled = scaler.fit_transform(X_train)\n",
        "X_test_scaled = scaler.transform(X_test)\n",
        "\n",
        "# Définir le modèle de forêt aléatoire\n",
        "rf_model = RandomForestClassifier(random_state=42)\n",
        "\n",
        "# Définir la grille d'hyperparamètres à rechercher\n",
        "param_dist = {\n",
        "    'n_estimators': randint(100, 1000),\n",
        "    'max_depth': randint(10, 50),\n",
        "    'min_samples_split': randint(2, 10),\n",
        "    'min_samples_leaf': randint(1, 10),\n",
        "    'criterion': ['gini', 'entropy']\n",
        "}\n",
        "\n",
        "# Utiliser RandomizedSearchCV pour trouver les meilleurs hyperparamètres\n",
        "random_search = RandomizedSearchCV(estimator=rf_model, param_distributions=param_dist, n_iter=3, cv=5, n_jobs=-1, verbose=2, random_state=42)\n",
        "random_search.fit(X_train_scaled, y_train)\n",
        "\n",
        "# Afficher les meilleurs hyperparamètres\n",
        "best_params = random_search.best_params_\n",
        "print(f\"Best hyperparameters: {best_params}\")\n",
        "\n",
        "# Entraîner le modèle avec les meilleurs hyperparamètres\n",
        "best_rf_model = random_search.best_estimator_\n",
        "best_rf_model.fit(X_train_scaled, y_train)\n",
        "\n",
        "# Prédictions sur l'ensemble de test\n",
        "y_pred = best_rf_model.predict(X_test_scaled)\n",
        "\n",
        "# Évaluation du modèle\n",
        "report = classification_report(y_test, y_pred)\n",
        "print(report)"
      ]
    },
    {
      "cell_type": "markdown",
      "metadata": {
        "id": "lh3fDFAa6T9U"
      },
      "source": [
        "les meilleurs paramètres sont : {'criterion': 'gini', 'max_depth': 28, 'min_samples_leaf': 7, 'min_samples_split': 4, 'n_estimators': 558}\n",
        "\n",
        "résultats :\n",
        "\n",
        "              precision    recall  f1-score   support\n",
        "\n",
        "         0.0       0.86      0.82      0.84      6977\n",
        "         1.0       0.72      0.77      0.75      4164\n",
        "\n",
        "    accuracy                           0.80     11141"
      ]
    },
    {
      "cell_type": "markdown",
      "metadata": {
        "id": "JUB6D6q26URm"
      },
      "source": [
        "# SVM :"
      ]
    },
    {
      "cell_type": "code",
      "execution_count": null,
      "metadata": {
        "id": "lng8p3iw6b4q",
        "colab": {
          "base_uri": "https://localhost:8080/"
        },
        "outputId": "897d2255-5137-4c01-fa3d-8fd9476c1645"
      },
      "outputs": [
        {
          "output_type": "stream",
          "name": "stdout",
          "text": [
            "Fitting 5 folds for each of 3 candidates, totalling 15 fits\n",
            "Best hyperparameters: {'criterion': 'gini', 'max_depth': 28, 'min_samples_leaf': 7, 'min_samples_split': 4, 'n_estimators': 558}\n",
            "              precision    recall  f1-score   support\n",
            "\n",
            "         0.0       0.86      0.82      0.84      6977\n",
            "         1.0       0.72      0.77      0.75      4164\n",
            "\n",
            "    accuracy                           0.80     11141\n",
            "   macro avg       0.79      0.80      0.79     11141\n",
            "weighted avg       0.81      0.80      0.81     11141\n",
            "\n"
          ]
        }
      ],
      "source": [
        "from sklearn.model_selection import RandomizedSearchCV\n",
        "from sklearn.preprocessing import StandardScaler\n",
        "from sklearn.svm import SVC\n",
        "from sklearn.metrics import classification_report\n",
        "\n",
        "# Normaliser les données\n",
        "scaler = StandardScaler()\n",
        "X_train_scaled = scaler.fit_transform(X_train)\n",
        "X_test_scaled = scaler.transform(X_test)\n",
        "\n",
        "# Définir le modèle SVM\n",
        "svm_model = SVC(random_state=42)\n",
        "\n",
        "# Définir la grille d'hyperparamètres à rechercher\n",
        "param_dist = {\n",
        "    'n_estimators': randint(100, 1000),\n",
        "    'max_depth': randint(10, 50),\n",
        "    'min_samples_split': randint(2, 10),\n",
        "    'min_samples_leaf': randint(1, 10),\n",
        "    'criterion': ['gini', 'entropy']\n",
        "}\n",
        "\n",
        "# Utiliser RandomizedSearchCV pour trouver les meilleurs hyperparamètres\n",
        "random_search = RandomizedSearchCV(estimator=rf_model, param_distributions=param_dist, n_iter=3, cv=5, n_jobs=-1, verbose=2, random_state=42)\n",
        "random_search.fit(X_train_scaled, y_train)\n",
        "\n",
        "# Afficher les meilleurs hyperparamètres\n",
        "best_params = random_search.best_params_\n",
        "print(f\"Best hyperparameters: {best_params}\")\n",
        "\n",
        "# Entraîner le modèle avec les meilleurs hyperparamètres\n",
        "best_svm_model = random_search.best_estimator_\n",
        "best_svm_model.fit(X_train_scaled, y_train)\n",
        "\n",
        "# Prédictions sur l'ensemble de test\n",
        "y_pred = best_svm_model.predict(X_test_scaled)\n",
        "\n",
        "# Évaluation du modèle\n",
        "report = classification_report(y_test, y_pred)\n",
        "print(report)"
      ]
    },
    {
      "cell_type": "markdown",
      "metadata": {
        "id": "vhKqv8qh6sd-"
      },
      "source": [
        "Les meilleurs paramètres sont : {'criterion': 'gini', 'max_depth': 28, 'min_samples_leaf': 7, 'min_samples_split': 4, 'n_estimators': 558}    \n",
        "\n",
        "résultats :    \n",
        "\n",
        "              precision    recall  f1-score   support\n",
        "\n",
        "         0.0       0.86      0.82      0.84      6977\n",
        "         1.0       0.72      0.77      0.75      4164\n",
        "\n",
        "    accuracy                           0.80     11141\n"
      ]
    },
    {
      "cell_type": "markdown",
      "source": [
        "L'ajustement des paramètres modifie la précision du modèle."
      ],
      "metadata": {
        "id": "ETe3UhPV17ir"
      }
    },
    {
      "cell_type": "markdown",
      "source": [
        "# 3.4\n",
        "\n",
        "Les modèles SVM et Random forest sont les modèles les plus précis."
      ],
      "metadata": {
        "id": "Vy9VGFKK2GnV"
      }
    }
  ],
  "metadata": {
    "colab": {
      "provenance": [],
      "authorship_tag": "ABX9TyO22mbQA5fezS/Z/jzsMD8J",
      "include_colab_link": true
    },
    "kernelspec": {
      "display_name": "Python 3",
      "name": "python3"
    },
    "language_info": {
      "name": "python"
    }
  },
  "nbformat": 4,
  "nbformat_minor": 0
}